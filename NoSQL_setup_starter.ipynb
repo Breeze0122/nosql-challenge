{
 "cells": [
  {
   "cell_type": "markdown",
   "id": "9a57c4c6",
   "metadata": {},
   "source": [
    "# Eat Safe, Love"
   ]
  },
  {
   "cell_type": "markdown",
   "id": "064ef857",
   "metadata": {},
   "source": [
    "## Part 1: Database and Jupyter Notebook Set Up"
   ]
  },
  {
   "cell_type": "markdown",
   "id": "664e3c1f",
   "metadata": {},
   "source": [
    "Import the data provided in the `establishments.json` file from your Terminal. Name the database `uk_food` and the collection `establishments`.\n",
    "\n",
    "Within this markdown cell, copy the line of text you used to import the data from your Terminal. This way, future analysts will be able to repeat your process.\n",
    "\n",
    "e.g.: Import the dataset with `YOUR IMPORT TEXT HERE`"
   ]
  },
  {
   "cell_type": "markdown",
   "id": "9499b874",
   "metadata": {},
   "source": [
    "###Last login: Sun Jan  7 14:23:03 on ttys000\n",
    "(base) breeze@MacBook-Air-de-Breeze Challenges % ls\n",
    "1 Challenge 20230921\t\tpython-api-challenge\n",
    "Matplotlib-challenge\t\tsql-challenge\n",
    "Python-Challenge\t\tsqlalchemy-challenge\n",
    "nosql-challenge\t\t\tweb-scrapping\n",
    "pandas-challenge\t\t~$BM_CrowdfundingBook.xlsx\n",
    "(base) breeze@MacBook-Air-de-Breeze Challenges % cd nosql-challenge\n",
    "(base) breeze@MacBook-Air-de-Breeze nosql-challenge % ls\n",
    "NoSQL_analysis_starter.ipynb\tResources\n",
    "NoSQL_setup_starter.ipynb\n",
    "(base) breeze@MacBook-Air-de-Breeze nosql-challenge % cd Resources\n",
    "(base) breeze@MacBook-Air-de-Breeze Resources % ls\n",
    "establishments.json\n",
    "(base) breeze@MacBook-Air-de-Breeze Resources % mongoimport\n",
    "2024-01-07T19:36:45.630-0600\tno collection specified\n",
    "2024-01-07T19:36:45.631-0600\tusing filename '' as collection\n",
    "2024-01-07T19:36:45.631-0600\terror validating settings: invalid collection name: collection name cannot be an empty string\n",
    "(base) breeze@MacBook-Air-de-Breeze Resources % mongoimport --type json -d uk_food -c establishments --drop --jsonArray establishments.json\n",
    "2024-01-07T19:42:36.415-0600\tconnected to: mongodb://localhost/\n",
    "2024-01-07T19:42:36.416-0600\tdropping: uk_food.establishments\n",
    "2024-01-07T19:42:39.415-0600\t[........................] uk_food.establishments\t0B/39.3MB (0.0%)\n",
    "2024-01-07T19:42:42.414-0600\t[........................] uk_food.establishments\t0B/39.3MB (0.0%)\n",
    "2024-01-07T19:42:45.414-0600\t[........................] uk_food.establishments\t0B/39.3MB (0.0%)\n",
    "2024-01-07T19:42:48.415-0600\t[........................] uk_food.establishments\t0B/39.3MB (0.0%)\n",
    "2024-01-07T19:42:51.414-0600\t[........................] uk_food.establishments\t0B/39.3MB (0.0%)\n",
    "2024-01-07T19:42:54.413-0600\t[#########...............] uk_food.establishments\t15.0MB/39.3MB (38.0%)\n",
    "2024-01-07T19:42:57.148-0600\t[########################] uk_food.establishments\t39.3MB/39.3MB (100.0%)\n",
    "2024-01-07T19:42:57.149-0600\t39779 document(s) imported successfully. 0 document(s) failed to import.\n",
    "(base) breeze@MacBook-Air-de-Breeze Resources % mongosh\n",
    "Current Mongosh Log ID:\t659b54e3cf29827d0b0be217\n",
    "Connecting to:\t\tmongodb://127.0.0.1:27017/?directConnection=true&serverSelectionTimeoutMS=2000&appName=mongosh+2.1.1\n",
    "Using MongoDB:\t\t7.0.2\n",
    "Using Mongosh:\t\t2.1.1\n",
    "\n",
    "For mongosh info see: https://docs.mongodb.com/mongodb-shell/\n",
    "\n",
    "------\n",
    "   The server generated these startup warnings when booting\n",
    "   2024-01-07T14:47:09.617-06:00: Access control is not enabled for the database. Read and write access to data and configuration is unrestricted\n",
    "------\n",
    "\n",
    "test> (node:11573) [DEP0040] DeprecationWarning: The `punycode` module is deprecated. Please use a userland alternative instead.\n",
    "(Use `node --trace-deprecation ...` to show where the warning was created)\n",
    "use uk_food\n",
    "switched to db uk_food\n",
    "uk_food> show collections\n",
    "establishments\n",
    "uk_food> "
   ]
  },
  {
   "cell_type": "code",
   "execution_count": 1,
   "id": "3ecdd008",
   "metadata": {},
   "outputs": [],
   "source": [
    "# Import dependencies\n",
    "from pymongo import MongoClient\n",
    "from pprint import pprint"
   ]
  },
  {
   "cell_type": "code",
   "execution_count": 2,
   "id": "59390c4a",
   "metadata": {},
   "outputs": [],
   "source": [
    "# Create an instance of MongoClient\n",
    "mongo = MongoClient(port=27017)"
   ]
  },
  {
   "cell_type": "code",
   "execution_count": null,
   "id": "7f9ececa",
   "metadata": {},
   "outputs": [],
   "source": [
    "# confirm that our new database was created\n",
    "db_names= mongo.list_database_names()\n",
    "dbname= 'uk_food'\n",
    "if 'uk_food' in db_names:\n",
    "    print('db exists! ' + dbname)\n",
    "else:\n",
    "    print ('db doesn''t exists')\n"
   ]
  },
  {
   "cell_type": "code",
   "execution_count": 4,
   "id": "71e373c1",
   "metadata": {},
   "outputs": [],
   "source": [
    "# assign the uk_food database to a variable name\n",
    "db = mongo['uk_food']"
   ]
  },
  {
   "cell_type": "code",
   "execution_count": null,
   "id": "ef1b89ed",
   "metadata": {},
   "outputs": [],
   "source": [
    "# review the collections in our new database\n",
    "collection_names= db.list_collection_names()\n",
    "collection_names"
   ]
  },
  {
   "cell_type": "code",
   "execution_count": null,
   "id": "18ab463c",
   "metadata": {},
   "outputs": [],
   "source": [
    "# review the collections in our new database\n",
    "list(db.establishments.find())"
   ]
  },
  {
   "cell_type": "code",
   "execution_count": null,
   "id": "6a0d92df",
   "metadata": {},
   "outputs": [],
   "source": [
    "# review a document in the establishments collection\n",
    "documents='establishments'.find('659b531c071a5c8ea17514bc')\n",
    "documents"
   ]
  },
  {
   "cell_type": "code",
   "execution_count": 8,
   "id": "11c9f11b",
   "metadata": {},
   "outputs": [],
   "source": [
    "# assign the collection to a variable\n",
    "establishments = db['establishments']"
   ]
  },
  {
   "cell_type": "code",
   "execution_count": null,
   "id": "a469e1bd",
   "metadata": {},
   "outputs": [],
   "source": [
    "# review a document in the establishments collections\n",
    "documents = establishments.find()\n",
    "for document in documents:\n",
    "    print(document)\n",
    "    "
   ]
  },
  {
   "cell_type": "markdown",
   "id": "d5671434",
   "metadata": {},
   "source": [
    "## Part 2: Update the Database"
   ]
  },
  {
   "cell_type": "markdown",
   "id": "314bd884",
   "metadata": {},
   "source": [
    "1. An exciting new halal restaurant just opened in Greenwich, but hasn't been rated yet. The magazine has asked you to include it in your analysis. Add the following restaurant \"Penang Flavours\" to the database."
   ]
  },
  {
   "cell_type": "code",
   "execution_count": 10,
   "id": "c2da7648",
   "metadata": {},
   "outputs": [],
   "source": [
    "# Create a dictionary for the new restaurant data\n",
    "new_restaurant={\n",
    " 'FHRSID': 254298,\n",
    "   'ChangesByServerID': 0,\n",
    "     'LocalAuthorityBusinessID': 'PI/000066198',\n",
    "       'BusinessName':'Penang Flavours',\n",
    "        'BusinessType': 'Restaurant/Cafe/Canteen',\n",
    "        'BusinessTypeID': 7898, \n",
    "        'AddressLine1': 'Penang Flavours', \n",
    "        'AddressLine2': '146A Plumstead Rd', \n",
    "        'AddressLine3': 'London', \n",
    "        'AddressLine4': '', \n",
    "        'PostCode': 'SE18 7DY', \n",
    "        'Phone': '', \n",
    "        'RatingValue': '511', \n",
    "        'RatingKey': 'fhrs_5_en-jd', \n",
    "        'RatingDate': '2024-02-11T00:00:00', \n",
    "        'LocalAuthorityCode': '512', \n",
    "        'LocalAuthorityName': 'Greenwich', \n",
    "        'LocalAuthorityWebSite': 'http://www.royalgreenwich.gov.uk', \n",
    "        'LocalAuthorityEmailAddress': 'health@royalgreenwich.gov.uk', \n",
    "        'scores': {'Hygiene': 0, 'Structural': 0, 'ConfidenceInManagement': 0}, \n",
    "        'SchemeType': 'FHRS', 'geocode': {'longitude': '0.08384000', 'latitude': '51.49014200'}, \n",
    "        'RightToReply': '', \n",
    "        'Distance': 4623.9723280747176, \n",
    "        'NewRatingPending': False, \n",
    "        'meta': {'dataSource': None, 'extractDate': '0001-01-01T00:00:00', 'itemCount': 0, 'returncode': None, 'totalCount': 0, 'totalPages': 0, 'pageSize': 0, 'pageNumber': 0}, \n",
    "        'links': [{'rel': 'self', 'href': 'https://api.ratings.food.gov.uk/establishments/254298'}]}\n"
   ]
  },
  {
   "cell_type": "code",
   "execution_count": null,
   "id": "a6e5cece",
   "metadata": {},
   "outputs": [],
   "source": [
    "# Insert the new restaurant into the collection\n",
    "collection= db.establishments\n",
    "collection.insert_one(new_restaurant)"
   ]
  },
  {
   "cell_type": "code",
   "execution_count": null,
   "id": "63bb10f9",
   "metadata": {},
   "outputs": [],
   "source": [
    "# Check that the new restaurant was inserted\n",
    "find_new= collection.find_one({'BusinessName':'Penang Flavours',\n",
    "        'BusinessType': 'Restaurant/Cafe/Canteen'})\n",
    "find_new"
   ]
  },
  {
   "cell_type": "markdown",
   "id": "0ef4395a",
   "metadata": {},
   "source": [
    "2. Find the BusinessTypeID for \"Restaurant/Cafe/Canteen\" and return only the `BusinessTypeID` and `BusinessType` fields."
   ]
  },
  {
   "cell_type": "code",
   "execution_count": null,
   "id": "93c63829",
   "metadata": {},
   "outputs": [],
   "source": [
    "# Find the BusinessTypeID for \"Restaurant/Cafe/Canteen\" and return only the BusinessTypeID and BusinessType fields\n",
    "results= collection.find({'BusinessType': 'Restaurant/Cafe/Canteen'},{'BusinessType': 1,'BusinessType':1})\n",
    "\n",
    "results"
   ]
  },
  {
   "cell_type": "markdown",
   "id": "4e570caf",
   "metadata": {},
   "source": [
    "3. Update the new restaurant with the `BusinessTypeID` you found."
   ]
  },
  {
   "cell_type": "code",
   "execution_count": null,
   "id": "7f599f3d",
   "metadata": {},
   "outputs": [],
   "source": [
    "# Update the new restaurant with the correct BusinessTypeID\n",
    "collection.update({'BusinessType': 'Restaurant/Cafe/Canteen'},{'$set':\n",
    "                                                                 {'BusinessTypeID':'1'}\n",
    "                                                                 })"
   ]
  },
  {
   "cell_type": "code",
   "execution_count": 40,
   "id": "a6ad16f7",
   "metadata": {},
   "outputs": [],
   "source": [
    "# Confirm that the new restaurant was updated\n",
    "collection.find_one({'$and':[{'BusinessType': 'Restaurant/Cafe/Canteen'},{'BusinessTypeID':'7898'}]})\n"
   ]
  },
  {
   "cell_type": "markdown",
   "id": "67281254",
   "metadata": {},
   "source": [
    "4. The magazine is not interested in any establishments in Dover, so check how many documents contain the Dover Local Authority. Then, remove any establishments within the Dover Local Authority from the database, and check the number of documents to ensure they were deleted."
   ]
  },
  {
   "cell_type": "code",
   "execution_count": 41,
   "id": "768474a6",
   "metadata": {},
   "outputs": [
    {
     "data": {
      "text/plain": [
       "994"
      ]
     },
     "execution_count": 41,
     "metadata": {},
     "output_type": "execute_result"
    }
   ],
   "source": [
    "# Find how many documents have LocalAuthorityName as \"Dover\"\n",
    "collection.count_documents({'LocalAuthorityName':'Dover' })"
   ]
  },
  {
   "cell_type": "code",
   "execution_count": 42,
   "id": "a11d5f1b",
   "metadata": {},
   "outputs": [
    {
     "data": {
      "text/plain": [
       "<pymongo.results.DeleteResult at 0x12a935500>"
      ]
     },
     "execution_count": 42,
     "metadata": {},
     "output_type": "execute_result"
    }
   ],
   "source": [
    "# Delete all documents where LocalAuthorityName is \"Dover\"\n",
    "collection.delete_many({'LocalAuthorityName':'Dover' })"
   ]
  },
  {
   "cell_type": "code",
   "execution_count": 43,
   "id": "2a51aba0",
   "metadata": {},
   "outputs": [
    {
     "data": {
      "text/plain": [
       "0"
      ]
     },
     "execution_count": 43,
     "metadata": {},
     "output_type": "execute_result"
    }
   ],
   "source": [
    "# Check if any remaining documents include Dover\n",
    "collection.count_documents({'LocalAuthorityName':'Dover' })"
   ]
  },
  {
   "cell_type": "code",
   "execution_count": null,
   "id": "8c356f7b",
   "metadata": {},
   "outputs": [],
   "source": [
    "# Check that other documents remain with 'find_one'\n",
    "collection.find_one({'LocalAuthorityName':{'$ne':'Dover' }})"
   ]
  },
  {
   "attachments": {},
   "cell_type": "markdown",
   "id": "e9f1662d",
   "metadata": {},
   "source": [
    "5. Some of the number values are stored as strings, when they should be stored as numbers."
   ]
  },
  {
   "attachments": {},
   "cell_type": "markdown",
   "id": "c46df2df",
   "metadata": {},
   "source": [
    "Use `update_many` to convert `latitude` and `longitude` to decimal numbers."
   ]
  },
  {
   "cell_type": "code",
   "execution_count": null,
   "id": "fd4112ce",
   "metadata": {},
   "outputs": [],
   "source": [
    "# Change the data type from String to Decimal for longitude and latitude\n",
    "establishments.update_many({},[\n",
    "    {'$set':{'geocode.latitude': {'$toDouble':'$latitude'}}}\n",
    "])\n",
    "\n",
    "establishments.update_many({},[\n",
    "    {'$set': {'geocode.latitude': {'$toDouble':'$latitude'}}}\n",
    "])"
   ]
  },
  {
   "attachments": {},
   "cell_type": "markdown",
   "id": "142e319c",
   "metadata": {},
   "source": [
    "Use `update_many` to convert `RatingValue` to integer numbers."
   ]
  },
  {
   "cell_type": "code",
   "execution_count": null,
   "id": "04430a5b",
   "metadata": {},
   "outputs": [],
   "source": [
    "# Set non 1-5 Rating Values to Null\n",
    "non_ratings = [\"AwaitingInspection\", \"Awaiting Inspection\", \"AwaitingPublication\", \"Pass\", \"Exempt\"]\n",
    "establishments.update_many({\"RatingValue\": {\"$in\": non_ratings}}, [ {'$set':{ \"RatingValue\" : None}} ])"
   ]
  },
  {
   "cell_type": "code",
   "execution_count": null,
   "id": "92524ccc",
   "metadata": {},
   "outputs": [],
   "source": [
    "# Change the data type from String to Integer for RatingValue\n",
    "collection.update_many({},[\n",
    "    {'$set':{'RatingValue':{'$toInt':'$RatingValue'}}}\n",
    "])"
   ]
  },
  {
   "cell_type": "code",
   "execution_count": null,
   "id": "0deacaf9",
   "metadata": {},
   "outputs": [],
   "source": [
    "# Check that the coordinates and rating value are now numbers\n",
    "results = list(collection.find({'BusinessTypeID': 4613},{'RatingValue':1}))\n",
    "results"
   ]
  }
 ],
 "metadata": {
  "kernelspec": {
   "display_name": "Python 3 (ipykernel)",
   "language": "python",
   "name": "python3"
  },
  "language_info": {
   "codemirror_mode": {
    "name": "ipython",
    "version": 3
   },
   "file_extension": ".py",
   "mimetype": "text/x-python",
   "name": "python",
   "nbconvert_exporter": "python",
   "pygments_lexer": "ipython3",
   "version": "3.11.5"
  }
 },
 "nbformat": 4,
 "nbformat_minor": 5
}
